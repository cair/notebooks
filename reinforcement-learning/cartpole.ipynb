{
 "cells": [
  {
   "cell_type": "heading",
   "metadata": {},
   "level": 1,
   "source": [
    "Reinforcement Learning - Cartpole - Tabular Q-Learning"
   ]
  },
  {
   "cell_type": "code",
   "execution_count": 12,
   "metadata": {},
   "outputs": [],
   "source": [
    "%matplotlib inline\n",
    "\n",
    "import numpy\n",
    "import gym\n",
    "import random"
   ]
  },
  {
   "cell_type": "code",
   "execution_count": 13,
   "metadata": {},
   "outputs": [],
   "source": [
    "env = gym.make('CartPole-v0')"
   ]
  },
  {
   "cell_type": "code",
   "execution_count": 14,
   "metadata": {},
   "outputs": [],
   "source": [
    "class Q:\n",
    "    def __init__(self, a_space=2):\n",
    "        self.map = {}\n",
    "        self.a_space = a_space\n",
    "        \n",
    "    def __setitem__(self, key, value):\n",
    "        q, a = key\n",
    "        q_h = hash(tuple(q))\n",
    "        self.map[q_h][a] = value\n",
    "\n",
    "    def __getitem__(self, item):\n",
    "  \n",
    "        # Query for only State\n",
    "        if len(item) != 2:\n",
    "            q_h = hash(tuple(item))\n",
    "            \n",
    "            if q_h in self.map:\n",
    "                return self.map[q_h]\n",
    "\n",
    "            self.map[q_h] = [0 for _ in range(self.a_space)]\n",
    "            return self.map[q_h]\n",
    "              \n",
    "        elif len(item) == 2:\n",
    "            q, a = item\n",
    "            q_h = hash(tuple(q))\n",
    "            \n",
    "            # Return q_h, a\n",
    "            if q_h in self.map:\n",
    "                return self.map[q_h][a]\n",
    "            \n",
    "            self.map[q_h] = [0 for _ in range(self.a_space)]\n",
    "            return self.map[q_h][a]\n",
    "        else:\n",
    "            raise Exception(\"You cannot have 3 arguments!\")\n",
    "        \n",
    "        \n",
    "        \n"
   ]
  },
  {
   "cell_type": "code",
   "execution_count": 15,
   "metadata": {
    "collapsed": true
   },
   "outputs": [],
   "source": [
    "q = Q()"
   ]
  },
  {
   "cell_type": "code",
   "execution_count": 16,
   "metadata": {
    "collapsed": true
   },
   "outputs": [],
   "source": [
    "# learning rate\n",
    "lr = 0.2\n",
    "\n",
    "# discount factor\n",
    "discount = 0.99\n",
    "\n",
    "# epsilon ceiling\n",
    "epsilon_max = 1.0\n",
    "\n",
    "# epsilon floor\n",
    "epsilon_min = 0\n",
    "\n",
    "# number of fixed epsilon decay steps\n",
    "epsilon_steps = 1000000\n",
    "\n",
    "# epsilon decay ratio\n",
    "epsilon_decay = (epsilon_max - epsilon_min) / epsilon_steps\n",
    "\n",
    "# initialize epsilon to ceiling\n",
    "epsilon = epsilon_max"
   ]
  },
  {
   "cell_type": "code",
   "execution_count": 17,
   "metadata": {
    "collapsed": true
   },
   "outputs": [],
   "source": [
    "# plotting stuff\n",
    "plot_wins = []\n",
    "plot_loss = []\n",
    "plot_avg_reward = []\n",
    "plot_max_reward = []\n",
    "plot_y = []\n"
   ]
  },
  {
   "cell_type": "code",
   "execution_count": 18,
   "metadata": {
    "collapsed": true
   },
   "outputs": [
    {
     "name": "stdout",
     "output_type": "stream",
     "text": [
      "s_l: 13, avg: 120.0, epsilon: 0.9999879999999997, epoch: 0 max_reward 12.0 w/l: 0-1\n"
     ]
    },
    {
     "name": "stdout",
     "output_type": "stream",
     "text": [
      "s_l: 2072, avg: 22.979404119176163, epsilon: 0.9885079999996695, epoch: 500 max_reward 104.0 w/l: 0-501\n"
     ]
    },
    {
     "name": "stdout",
     "output_type": "stream",
     "text": [
      "s_l: 3036, avg: 23.158684131586842, epsilon: 0.976838999999334, epoch: 1000 max_reward 104.0 w/l: 0-1001\n"
     ]
    },
    {
     "name": "stdout",
     "output_type": "stream",
     "text": [
      "s_l: 3710, avg: 23.21378574761683, epsilon: 0.9651769999989986, epoch: 1500 max_reward 104.0 w/l: 0-1501\n"
     ]
    },
    {
     "name": "stdout",
     "output_type": "stream",
     "text": [
      "s_l: 4222, avg: 23.116844157792112, epsilon: 0.9537639999986705, epoch: 2000 max_reward 104.0 w/l: 0-2001\n"
     ]
    },
    {
     "name": "stdout",
     "output_type": "stream",
     "text": [
      "s_l: 4763, avg: 23.31066757329707, epsilon: 0.9417209999983241, epoch: 2500 max_reward 104.0 w/l: 0-2501\n"
     ]
    },
    {
     "name": "stdout",
     "output_type": "stream",
     "text": [
      "s_l: 5167, avg: 23.49455018166061, epsilon: 0.9295139999979731, epoch: 3000 max_reward 104.0 w/l: 0-3001\n"
     ]
    },
    {
     "name": "stdout",
     "output_type": "stream",
     "text": [
      "s_l: 5535, avg: 23.599897145795836, epsilon: 0.9173979999976247, epoch: 3500 max_reward 104.0 w/l: 0-3501\n"
     ]
    },
    {
     "name": "stdout",
     "output_type": "stream",
     "text": [
      "s_l: 5882, avg: 23.74740631484213, epsilon: 0.9050079999972684, epoch: 4000 max_reward 116.0 w/l: 0-4001\n"
     ]
    },
    {
     "name": "stdout",
     "output_type": "stream",
     "text": [
      "s_l: 6263, avg: 23.918801804404346, epsilon: 0.8923629999969048, epoch: 4500 max_reward 116.0 w/l: 0-4501\n"
     ]
    },
    {
     "name": "stdout",
     "output_type": "stream",
     "text": [
      "s_l: 6535, avg: 24.107717845643084, epsilon: 0.8794589999965338, epoch: 5000 max_reward 116.0 w/l: 0-5001\n"
     ]
    },
    {
     "name": "stdout",
     "output_type": "stream",
     "text": [
      "s_l: 6916, avg: 24.33792112870675, epsilon: 0.8661389999961507, epoch: 5500 max_reward 116.0 w/l: 0-5501\n"
     ]
    },
    {
     "name": "stdout",
     "output_type": "stream",
     "text": [
      "s_l: 7225, avg: 24.652589123514606, epsilon: 0.8520819999957465, epoch: 6000 max_reward 116.0 w/l: 0-6001\n"
     ]
    },
    {
     "name": "stdout",
     "output_type": "stream",
     "text": [
      "s_l: 7484, avg: 24.811772126582667, epsilon: 0.8387209999953623, epoch: 6500 max_reward 116.0 w/l: 0-6501\n"
     ]
    },
    {
     "name": "stdout",
     "output_type": "stream",
     "text": [
      "s_l: 7782, avg: 25.07664176226054, epsilon: 0.8244609999949523, epoch: 7000 max_reward 123.0 w/l: 0-7001\n"
     ]
    },
    {
     "name": "stdout",
     "output_type": "stream",
     "text": [
      "s_l: 8081, avg: 25.286862841828775, epsilon: 0.8103459999945464, epoch: 7500 max_reward 123.0 w/l: 0-7501\n"
     ]
    },
    {
     "name": "stdout",
     "output_type": "stream",
     "text": [
      "s_l: 8373, avg: 25.512556093048836, epsilon: 0.7958969999941309, epoch: 8000 max_reward 123.0 w/l: 0-8001\n"
     ]
    },
    {
     "name": "stdout",
     "output_type": "stream",
     "text": [
      "s_l: 8661, avg: 25.807108151668803, epsilon: 0.7806369999936921, epoch: 8500 max_reward 123.0 w/l: 0-8501\n"
     ]
    },
    {
     "name": "stdout",
     "output_type": "stream",
     "text": [
      "s_l: 8941, avg: 26.08804346618371, epsilon: 0.7652049999932483, epoch: 9000 max_reward 123.0 w/l: 0-9001\n"
     ]
    },
    {
     "name": "stdout",
     "output_type": "stream",
     "text": [
      "s_l: 9143, avg: 26.337722760813044, epsilon: 0.749788999992805, epoch: 9500 max_reward 123.0 w/l: 0-9501\n"
     ]
    },
    {
     "name": "stdout",
     "output_type": "stream",
     "text": [
      "s_l: 9417, avg: 26.641933580664194, epsilon: 0.7335779999923389, epoch: 10000 max_reward 123.0 w/l: 0-10001\n"
     ]
    },
    {
     "name": "stdout",
     "output_type": "stream",
     "text": [
      "s_l: 9729, avg: 26.966790792468643, epsilon: 0.7168459999918577, epoch: 10500 max_reward 123.0 w/l: 0-10501\n"
     ]
    },
    {
     "name": "stdout",
     "output_type": "stream",
     "text": [
      "s_l: 9974, avg: 27.366660303088153, epsilon: 0.6989639999913435, epoch: 11000 max_reward 123.0 w/l: 0-11001\n"
     ]
    },
    {
     "name": "stdout",
     "output_type": "stream",
     "text": [
      "s_l: 10243, avg: 27.799584351440423, epsilon: 0.6803019999908069, epoch: 11500 max_reward 143.0 w/l: 0-11501\n"
     ]
    },
    {
     "name": "stdout",
     "output_type": "stream",
     "text": [
      "s_l: 10699, avg: 28.358680344330462, epsilon: 0.6596929999902142, epoch: 12000 max_reward 143.0 w/l: 0-12001\n"
     ]
    },
    {
     "name": "stdout",
     "output_type": "stream",
     "text": [
      "s_l: 11045, avg: 28.865769073847407, epsilon: 0.6391749999896242, epoch: 12500 max_reward 143.0 w/l: 0-12501\n"
     ]
    },
    {
     "name": "stdout",
     "output_type": "stream",
     "text": [
      "s_l: 11431, avg: 29.37754324966731, epsilon: 0.6180889999890179, epoch: 13000 max_reward 143.0 w/l: 0-13001\n"
     ]
    },
    {
     "name": "stdout",
     "output_type": "stream",
     "text": [
      "s_l: 11819, avg: 30.002740720439107, epsilon: 0.5949599999883528, epoch: 13500 max_reward 145.0 w/l: 0-13501\n"
     ]
    },
    {
     "name": "stdout",
     "output_type": "stream",
     "text": [
      "s_l: 12154, avg: 30.597781444418253, epsilon: 0.5716279999876819, epoch: 14000 max_reward 161.0 w/l: 0-14001\n"
     ]
    },
    {
     "name": "stdout",
     "output_type": "stream",
     "text": [
      "s_l: 12601, avg: 31.22695705546858, epsilon: 0.5472059999869796, epoch: 14500 max_reward 165.0 w/l: 0-14501\n"
     ]
    },
    {
     "name": "stdout",
     "output_type": "stream",
     "text": [
      "s_l: 13085, avg: 32.00625329164472, epsilon: 0.5199029999861945, epoch: 15000 max_reward 200.0 w/l: 2-14999\n"
     ]
    },
    {
     "name": "stdout",
     "output_type": "stream",
     "text": [
      "s_l: 13508, avg: 32.75727253372559, epsilon: 0.49225899998582934, epoch: 15500 max_reward 200.0 w/l: 3-15498\n"
     ]
    },
    {
     "name": "stdout",
     "output_type": "stream",
     "text": [
      "s_l: 14042, avg: 33.65741464115849, epsilon: 0.4614779999866529, epoch: 16000 max_reward 200.0 w/l: 7-15994\n"
     ]
    },
    {
     "name": "stdout",
     "output_type": "stream",
     "text": [
      "s_l: 14490, avg: 34.545548208798735, epsilon: 0.42999499998749524, epoch: 16500 max_reward 200.0 w/l: 13-16488\n"
     ]
    },
    {
     "name": "stdout",
     "output_type": "stream",
     "text": [
      "s_l: 14963, avg: 35.62096693548862, epsilon: 0.39443999998844653, epoch: 17000 max_reward 200.0 w/l: 16-16984\n"
     ]
    },
    {
     "name": "stdout",
     "output_type": "stream",
     "text": [
      "s_l: 15389, avg: 36.756875674996145, epsilon: 0.3567509999894549, epoch: 17500 max_reward 200.0 w/l: 29-17471\n"
     ]
    },
    {
     "name": "stdout",
     "output_type": "stream",
     "text": [
      "s_l: 15876, avg: 38.154565807967735, epsilon: 0.3132139999906198, epoch: 18000 max_reward 200.0 w/l: 51-17949\n"
     ]
    },
    {
     "name": "stdout",
     "output_type": "stream",
     "text": [
      "s_l: 16467, avg: 39.75070405024838, epsilon: 0.26460799999192025, epoch: 18500 max_reward 200.0 w/l: 84-18415\n"
     ]
    },
    {
     "name": "stdout",
     "output_type": "stream",
     "text": [
      "s_l: 16889, avg: 41.326571965410714, epsilon: 0.21479099999227586, epoch: 19000 max_reward 200.0 w/l: 119-18879\n"
     ]
    },
    {
     "name": "stdout",
     "output_type": "stream",
     "text": [
      "s_l: 17445, avg: 43.04829206004072, epsilon: 0.1605539999922216, epoch: 19500 max_reward 200.0 w/l: 161-19337\n"
     ]
    },
    {
     "ename": "KeyboardInterrupt",
     "evalue": "",
     "traceback": [
      "\u001b[0;31m---------------------------------------------------------------------------\u001b[0m",
      "\u001b[0;31mKeyboardInterrupt\u001b[0m                         Traceback (most recent call last)",
      "\u001b[0;32m<ipython-input-18-3c68e92d0935>\u001b[0m in \u001b[0;36m<module>\u001b[0;34m()\u001b[0m\n\u001b[1;32m     46\u001b[0m         \u001b[0;31m# r - reward doing action a\u001b[0m\u001b[0;34m\u001b[0m\u001b[0;34m\u001b[0m\u001b[0m\n\u001b[1;32m     47\u001b[0m         \u001b[0;31m# t - terminal state\u001b[0m\u001b[0;34m\u001b[0m\u001b[0;34m\u001b[0m\u001b[0m\n\u001b[0;32m---> 48\u001b[0;31m         \u001b[0ms_\u001b[0m\u001b[0;34m,\u001b[0m \u001b[0mr\u001b[0m\u001b[0;34m,\u001b[0m \u001b[0mt\u001b[0m\u001b[0;34m,\u001b[0m \u001b[0m_\u001b[0m \u001b[0;34m=\u001b[0m \u001b[0menv\u001b[0m\u001b[0;34m.\u001b[0m\u001b[0mstep\u001b[0m\u001b[0;34m(\u001b[0m\u001b[0ma\u001b[0m\u001b[0;34m)\u001b[0m\u001b[0;34m\u001b[0m\u001b[0m\n\u001b[0m\u001b[1;32m     49\u001b[0m         \u001b[0ms_\u001b[0m \u001b[0;34m=\u001b[0m \u001b[0mnumpy\u001b[0m\u001b[0;34m.\u001b[0m\u001b[0maround\u001b[0m\u001b[0;34m(\u001b[0m\u001b[0ms_\u001b[0m\u001b[0;34m,\u001b[0m \u001b[0mdecimals\u001b[0m\u001b[0;34m=\u001b[0m\u001b[0;36m1\u001b[0m\u001b[0;34m)\u001b[0m  \u001b[0;31m# remove some decimals\u001b[0m\u001b[0;34m\u001b[0m\u001b[0m\n\u001b[1;32m     50\u001b[0m \u001b[0;34m\u001b[0m\u001b[0m\n",
      "\u001b[0;32m/usr/local/lib/python3.6/dist-packages/gym/core.py\u001b[0m in \u001b[0;36mstep\u001b[0;34m(self, action)\u001b[0m\n\u001b[1;32m     94\u001b[0m             \u001b[0minfo\u001b[0m \u001b[0;34m(\u001b[0m\u001b[0mdict\u001b[0m\u001b[0;34m)\u001b[0m\u001b[0;34m:\u001b[0m \u001b[0mcontains\u001b[0m \u001b[0mauxiliary\u001b[0m \u001b[0mdiagnostic\u001b[0m \u001b[0minformation\u001b[0m \u001b[0;34m(\u001b[0m\u001b[0mhelpful\u001b[0m \u001b[0;32mfor\u001b[0m \u001b[0mdebugging\u001b[0m\u001b[0;34m,\u001b[0m \u001b[0;32mand\u001b[0m \u001b[0msometimes\u001b[0m \u001b[0mlearning\u001b[0m\u001b[0;34m)\u001b[0m\u001b[0;34m\u001b[0m\u001b[0m\n\u001b[1;32m     95\u001b[0m         \"\"\"\n\u001b[0;32m---> 96\u001b[0;31m         \u001b[0;32mreturn\u001b[0m \u001b[0mself\u001b[0m\u001b[0;34m.\u001b[0m\u001b[0m_step\u001b[0m\u001b[0;34m(\u001b[0m\u001b[0maction\u001b[0m\u001b[0;34m)\u001b[0m\u001b[0;34m\u001b[0m\u001b[0m\n\u001b[0m\u001b[1;32m     97\u001b[0m \u001b[0;34m\u001b[0m\u001b[0m\n\u001b[1;32m     98\u001b[0m     \u001b[0;32mdef\u001b[0m \u001b[0mreset\u001b[0m\u001b[0;34m(\u001b[0m\u001b[0mself\u001b[0m\u001b[0;34m)\u001b[0m\u001b[0;34m:\u001b[0m\u001b[0;34m\u001b[0m\u001b[0m\n",
      "\u001b[0;32m/usr/local/lib/python3.6/dist-packages/gym/wrappers/time_limit.py\u001b[0m in \u001b[0;36m_step\u001b[0;34m(self, action)\u001b[0m\n\u001b[1;32m     34\u001b[0m     \u001b[0;32mdef\u001b[0m \u001b[0m_step\u001b[0m\u001b[0;34m(\u001b[0m\u001b[0mself\u001b[0m\u001b[0;34m,\u001b[0m \u001b[0maction\u001b[0m\u001b[0;34m)\u001b[0m\u001b[0;34m:\u001b[0m\u001b[0;34m\u001b[0m\u001b[0m\n\u001b[1;32m     35\u001b[0m         \u001b[0;32massert\u001b[0m \u001b[0mself\u001b[0m\u001b[0;34m.\u001b[0m\u001b[0m_episode_started_at\u001b[0m \u001b[0;32mis\u001b[0m \u001b[0;32mnot\u001b[0m \u001b[0;32mNone\u001b[0m\u001b[0;34m,\u001b[0m \u001b[0;34m\"Cannot call env.step() before calling reset()\"\u001b[0m\u001b[0;34m\u001b[0m\u001b[0m\n\u001b[0;32m---> 36\u001b[0;31m         \u001b[0mobservation\u001b[0m\u001b[0;34m,\u001b[0m \u001b[0mreward\u001b[0m\u001b[0;34m,\u001b[0m \u001b[0mdone\u001b[0m\u001b[0;34m,\u001b[0m \u001b[0minfo\u001b[0m \u001b[0;34m=\u001b[0m \u001b[0mself\u001b[0m\u001b[0;34m.\u001b[0m\u001b[0menv\u001b[0m\u001b[0;34m.\u001b[0m\u001b[0mstep\u001b[0m\u001b[0;34m(\u001b[0m\u001b[0maction\u001b[0m\u001b[0;34m)\u001b[0m\u001b[0;34m\u001b[0m\u001b[0m\n\u001b[0m\u001b[1;32m     37\u001b[0m         \u001b[0mself\u001b[0m\u001b[0;34m.\u001b[0m\u001b[0m_elapsed_steps\u001b[0m \u001b[0;34m+=\u001b[0m \u001b[0;36m1\u001b[0m\u001b[0;34m\u001b[0m\u001b[0m\n\u001b[1;32m     38\u001b[0m \u001b[0;34m\u001b[0m\u001b[0m\n",
      "\u001b[0;32m/usr/local/lib/python3.6/dist-packages/gym/core.py\u001b[0m in \u001b[0;36mstep\u001b[0;34m(self, action)\u001b[0m\n\u001b[1;32m     94\u001b[0m             \u001b[0minfo\u001b[0m \u001b[0;34m(\u001b[0m\u001b[0mdict\u001b[0m\u001b[0;34m)\u001b[0m\u001b[0;34m:\u001b[0m \u001b[0mcontains\u001b[0m \u001b[0mauxiliary\u001b[0m \u001b[0mdiagnostic\u001b[0m \u001b[0minformation\u001b[0m \u001b[0;34m(\u001b[0m\u001b[0mhelpful\u001b[0m \u001b[0;32mfor\u001b[0m \u001b[0mdebugging\u001b[0m\u001b[0;34m,\u001b[0m \u001b[0;32mand\u001b[0m \u001b[0msometimes\u001b[0m \u001b[0mlearning\u001b[0m\u001b[0;34m)\u001b[0m\u001b[0;34m\u001b[0m\u001b[0m\n\u001b[1;32m     95\u001b[0m         \"\"\"\n\u001b[0;32m---> 96\u001b[0;31m         \u001b[0;32mreturn\u001b[0m \u001b[0mself\u001b[0m\u001b[0;34m.\u001b[0m\u001b[0m_step\u001b[0m\u001b[0;34m(\u001b[0m\u001b[0maction\u001b[0m\u001b[0;34m)\u001b[0m\u001b[0;34m\u001b[0m\u001b[0m\n\u001b[0m\u001b[1;32m     97\u001b[0m \u001b[0;34m\u001b[0m\u001b[0m\n\u001b[1;32m     98\u001b[0m     \u001b[0;32mdef\u001b[0m \u001b[0mreset\u001b[0m\u001b[0;34m(\u001b[0m\u001b[0mself\u001b[0m\u001b[0;34m)\u001b[0m\u001b[0;34m:\u001b[0m\u001b[0;34m\u001b[0m\u001b[0m\n",
      "\u001b[0;32m/usr/local/lib/python3.6/dist-packages/gym/envs/classic_control/cartpole.py\u001b[0m in \u001b[0;36m_step\u001b[0;34m(self, action)\u001b[0m\n\u001b[1;32m     63\u001b[0m         \u001b[0mtemp\u001b[0m \u001b[0;34m=\u001b[0m \u001b[0;34m(\u001b[0m\u001b[0mforce\u001b[0m \u001b[0;34m+\u001b[0m \u001b[0mself\u001b[0m\u001b[0;34m.\u001b[0m\u001b[0mpolemass_length\u001b[0m \u001b[0;34m*\u001b[0m \u001b[0mtheta_dot\u001b[0m \u001b[0;34m*\u001b[0m \u001b[0mtheta_dot\u001b[0m \u001b[0;34m*\u001b[0m \u001b[0msintheta\u001b[0m\u001b[0;34m)\u001b[0m \u001b[0;34m/\u001b[0m \u001b[0mself\u001b[0m\u001b[0;34m.\u001b[0m\u001b[0mtotal_mass\u001b[0m\u001b[0;34m\u001b[0m\u001b[0m\n\u001b[1;32m     64\u001b[0m         \u001b[0mthetaacc\u001b[0m \u001b[0;34m=\u001b[0m \u001b[0;34m(\u001b[0m\u001b[0mself\u001b[0m\u001b[0;34m.\u001b[0m\u001b[0mgravity\u001b[0m \u001b[0;34m*\u001b[0m \u001b[0msintheta\u001b[0m \u001b[0;34m-\u001b[0m \u001b[0mcostheta\u001b[0m\u001b[0;34m*\u001b[0m \u001b[0mtemp\u001b[0m\u001b[0;34m)\u001b[0m \u001b[0;34m/\u001b[0m \u001b[0;34m(\u001b[0m\u001b[0mself\u001b[0m\u001b[0;34m.\u001b[0m\u001b[0mlength\u001b[0m \u001b[0;34m*\u001b[0m \u001b[0;34m(\u001b[0m\u001b[0;36m4.0\u001b[0m\u001b[0;34m/\u001b[0m\u001b[0;36m3.0\u001b[0m \u001b[0;34m-\u001b[0m \u001b[0mself\u001b[0m\u001b[0;34m.\u001b[0m\u001b[0mmasspole\u001b[0m \u001b[0;34m*\u001b[0m \u001b[0mcostheta\u001b[0m \u001b[0;34m*\u001b[0m \u001b[0mcostheta\u001b[0m \u001b[0;34m/\u001b[0m \u001b[0mself\u001b[0m\u001b[0;34m.\u001b[0m\u001b[0mtotal_mass\u001b[0m\u001b[0;34m)\u001b[0m\u001b[0;34m)\u001b[0m\u001b[0;34m\u001b[0m\u001b[0m\n\u001b[0;32m---> 65\u001b[0;31m         \u001b[0mxacc\u001b[0m  \u001b[0;34m=\u001b[0m \u001b[0mtemp\u001b[0m \u001b[0;34m-\u001b[0m \u001b[0mself\u001b[0m\u001b[0;34m.\u001b[0m\u001b[0mpolemass_length\u001b[0m \u001b[0;34m*\u001b[0m \u001b[0mthetaacc\u001b[0m \u001b[0;34m*\u001b[0m \u001b[0mcostheta\u001b[0m \u001b[0;34m/\u001b[0m \u001b[0mself\u001b[0m\u001b[0;34m.\u001b[0m\u001b[0mtotal_mass\u001b[0m\u001b[0;34m\u001b[0m\u001b[0m\n\u001b[0m\u001b[1;32m     66\u001b[0m         \u001b[0mx\u001b[0m  \u001b[0;34m=\u001b[0m \u001b[0mx\u001b[0m \u001b[0;34m+\u001b[0m \u001b[0mself\u001b[0m\u001b[0;34m.\u001b[0m\u001b[0mtau\u001b[0m \u001b[0;34m*\u001b[0m \u001b[0mx_dot\u001b[0m\u001b[0;34m\u001b[0m\u001b[0m\n\u001b[1;32m     67\u001b[0m         \u001b[0mx_dot\u001b[0m \u001b[0;34m=\u001b[0m \u001b[0mx_dot\u001b[0m \u001b[0;34m+\u001b[0m \u001b[0mself\u001b[0m\u001b[0;34m.\u001b[0m\u001b[0mtau\u001b[0m \u001b[0;34m*\u001b[0m \u001b[0mxacc\u001b[0m\u001b[0;34m\u001b[0m\u001b[0m\n",
      "\u001b[0;31mKeyboardInterrupt\u001b[0m: "
     ],
     "output_type": "error"
    },
    {
     "data": {
      "image/png": "[encoded data removed]",
      "text/plain": [
       "<matplotlib.figure.Figure at 0x7f037de9d9b0>"
      ]
     },
     "metadata": {},
     "output_type": "display_data"
    }
   ],
   "source": [
    "import matplotlib.pyplot as plt\n",
    "from IPython.display import clear_output\n",
    "\n",
    "\n",
    "# epoch counter\n",
    "current_epoch = 0\n",
    "max_epoch = 100000\n",
    "\n",
    "# reward counter\n",
    "max_reward = 0\n",
    "global_reward = 0\n",
    "\n",
    "# diagnostics\n",
    "print_every = 500\n",
    "win_threshold = 190\n",
    "wins = 0\n",
    "loss = 0\n",
    "\n",
    "while current_epoch < max_epoch:\n",
    "    # reset episodic reward\n",
    "    episodic_reward = 0\n",
    "\n",
    "    # reset terminal state to false\n",
    "    terminal = False\n",
    "    \n",
    "    # reset environment and observe state s (only use 1 decimal)\n",
    "    s = numpy.around(env.reset(), decimals=1)\n",
    "    \n",
    "    while not terminal:\n",
    "        # Predict optimal policy (Action)  # TODO ? is it called policy?\n",
    "        \n",
    "        # use epsilon greedy strategy to determine random policy or optimal policy\n",
    "        if random.random() < epsilon:\n",
    "            # random policy\n",
    "            a = env.action_space.sample()\n",
    "        else:\n",
    "            # \"optimal\" policy\n",
    "            a = numpy.argmax(q[s])\n",
    "   \n",
    "        # decay epsilon, use max() so it does not go below epsilon_min\n",
    "        epsilon = max(epsilon_min, epsilon - epsilon_decay)\n",
    "        \n",
    "        # perform action a on environment\n",
    "        # retrieve following:\n",
    "        # s_ - next state (s+1)\n",
    "        # r - reward doing action a\n",
    "        # t - terminal state\n",
    "        s_, r, t, _ = env.step(a)\n",
    "        s_ = numpy.around(s_, decimals=1)  # remove some decimals\n",
    "        \n",
    "        # perform update using value iteration (q-learning)\n",
    "        q[s, a] = q[s, a] + lr*(r + discount * numpy.max(q[s_]) - q[s, a])\n",
    "        \n",
    "        # s+1 is now s\n",
    "        s = s_\n",
    "        terminal = t\n",
    "\n",
    "\n",
    "    ############################################\n",
    "    ###########################################\n",
    "    # not part of algorithm below\n",
    "        \n",
    "        # sum up episodic reward\n",
    "        episodic_reward += r\n",
    "        \n",
    "        if t:\n",
    "            if episodic_reward > win_threshold:\n",
    "                wins += 1\n",
    "            elif episodic_reward < win_threshold:\n",
    "                loss += 1      \n",
    "                \n",
    "\n",
    "\n",
    "\n",
    "\n",
    "    global_reward += episodic_reward\n",
    "\n",
    "    plot_wins.append(wins / (wins + loss))\n",
    "    plot_loss.append(loss / (wins + loss))\n",
    "    plot_avg_reward.append(global_reward / (current_epoch+.1))\n",
    "    plot_max_reward.append(max_reward)\n",
    "    plot_y.append(current_epoch)\n",
    "\n",
    "    if episodic_reward > max_reward:\n",
    "        max_reward = episodic_reward\n",
    "\n",
    "    if current_epoch % print_every == 0:\n",
    "        plt.clf()\n",
    "        plt.cla()\n",
    "        plt.plot(plot_y, plot_wins, label=\"wins\")\n",
    "        plt.plot(plot_y, plot_loss, label=\"loss\")\n",
    "        plt.plot(plot_y, plot_avg_reward, label=\"wins\")\n",
    "        plt.plot(plot_y, plot_max_reward, label=\"loss\")\n",
    "        plt.title(\"statistics\")\n",
    "        plt.legend()\n",
    "\n",
    "        \n",
    "        print(\"s_l: %s, avg: %s, epsilon: %s, epoch: %s max_reward %s w/l: %s-%s\" % (\n",
    "            len(q.map), global_reward / (current_epoch+.1), epsilon, current_epoch, max_reward, wins, loss\n",
    "        ))\n",
    "        \n",
    "        clear_output()\n",
    "        \n",
    "    current_epoch += 1\n",
    "    \n",
    "    \n",
    "    \n",
    "    \n",
    "    \n",
    "    \n",
    "    \n"
   ]
  },
  {
   "cell_type": "code",
   "execution_count": 11,
   "metadata": {},
   "outputs": [],
   "source": []
  },
  {
   "cell_type": "code",
   "execution_count": null,
   "metadata": {},
   "outputs": [],
   "source": []
  }
 ],
 "metadata": {},
 "nbformat": 4,
 "nbformat_minor": 0
}
